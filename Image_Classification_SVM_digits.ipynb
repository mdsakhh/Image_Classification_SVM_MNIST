{
 "cells": [
  {
   "cell_type": "markdown",
   "id": "d6f15e65",
   "metadata": {},
   "source": [
    "# Support vector machines (SVMs)\n",
    "# Image data classification\n",
    "# Machine learning model"
   ]
  },
  {
   "cell_type": "markdown",
   "id": "c6a49e95",
   "metadata": {},
   "source": [
    " ### 1. First, we need to import the necessary libraries, such as numpy, sklearn, and matplotlib.\n",
    "\n",
    "###  2. Next, we need to load the image dataset that you want to classify. This could be done by reading the images from a directory or by loading them from a file. We also need to split the data into training and test sets, using a function like train_test_split from scikit-learn.\n",
    "\n",
    "### 3. Once we have the dataset, we need to extract features from the images. This could be done using techniques like edge detection, texture analysis, or color histograms. The extracted features will be used as input to the SVM model.\n",
    "\n",
    "### 4. After extracting the features, we need to create an SVM model using the SVC class from scikit-learn. we can specify the type of kernel to use (e.g., linear, polynomial, or radial basis function) and any other hyperparameters that we want to set.\n",
    "\n",
    "### 5. Next, we can train the model on the training data using the fit method.\n",
    "\n",
    "### 6. Finally, we can evaluate the model's performance on the test set using the score method. This will give us an idea of how well the model is able to classify the images in the test set.!!!"
   ]
  },
  {
   "cell_type": "markdown",
   "id": "be2c0111",
   "metadata": {},
   "source": [
    "# DataSet: MNIST\n",
    "## MNIST: This is a dataset of handwritten digits that is commonly used for testing machine learning algorithms. It consists of 60,000 training images and 10,000 test images."
   ]
  },
  {
   "cell_type": "code",
   "execution_count": 4,
   "id": "c9f622c1",
   "metadata": {},
   "outputs": [],
   "source": [
    "# Import libraries\n",
    "import numpy as np\n",
    "import pandas as pd\n",
    "from sklearn import datasets\n",
    "from sklearn.svm import SVC\n",
    "import matplotlib.pyplot as plt\n"
   ]
  },
  {
   "cell_type": "code",
   "execution_count": 8,
   "id": "772f280d",
   "metadata": {},
   "outputs": [],
   "source": [
    "# Load the MNIST dataset\n",
    "X, y = datasets.load_digits(return_X_y=True)"
   ]
  },
  {
   "cell_type": "code",
   "execution_count": 13,
   "id": "f1f1b3b8",
   "metadata": {},
   "outputs": [],
   "source": [
    "# Spliting the dataset into training and testing datasets\n",
    "from sklearn.model_selection import train_test_split\n",
    "X_train,X_test,y_train,y_test=train_test_split(X,y,test_size=0.3)"
   ]
  },
  {
   "cell_type": "code",
   "execution_count": 15,
   "id": "8efc1f96",
   "metadata": {},
   "outputs": [],
   "source": [
    "# Extract features from the images\n",
    "def extract_features(X):\n",
    "  return X"
   ]
  },
  {
   "cell_type": "code",
   "execution_count": 16,
   "id": "9861e01d",
   "metadata": {},
   "outputs": [],
   "source": [
    "X_train = extract_features(X_train)\n",
    "X_test = extract_features(X_test)"
   ]
  },
  {
   "cell_type": "code",
   "execution_count": 18,
   "id": "85a3e014",
   "metadata": {},
   "outputs": [],
   "source": [
    "## Create the SVM model\n",
    "svm_model=SVC()"
   ]
  },
  {
   "cell_type": "code",
   "execution_count": 19,
   "id": "02bb979d",
   "metadata": {},
   "outputs": [
    {
     "data": {
      "text/plain": [
       "SVC()"
      ]
     },
     "execution_count": 19,
     "metadata": {},
     "output_type": "execute_result"
    }
   ],
   "source": [
    "### Train the model with the training dataset\n",
    "svm_model.fit(X_train,y_train)"
   ]
  },
  {
   "cell_type": "code",
   "execution_count": 20,
   "id": "d46dd584",
   "metadata": {},
   "outputs": [
    {
     "name": "stdout",
     "output_type": "stream",
     "text": [
      "Test accuracy: 0.9889\n"
     ]
    }
   ],
   "source": [
    "# Evaluate the model on the test data\n",
    "accuracy = svm_model.score(X_test, y_test)\n",
    "print(\"Test accuracy: {:.4f}\".format(accuracy))"
   ]
  },
  {
   "cell_type": "code",
   "execution_count": 25,
   "id": "8b54dec3",
   "metadata": {},
   "outputs": [],
   "source": [
    "# Make predictions on the test data\n",
    "y_pred = svm_model.predict(X_test)"
   ]
  },
  {
   "cell_type": "markdown",
   "id": "e8e85d56",
   "metadata": {},
   "source": [
    "# Precision = True Positives / (True Positives + False Positives)\n",
    "# Recall = True Positives / (True Positives + False Negatives)\n",
    "# F1-score = 2 * (Precision * Recall) / (Precision + Recall)"
   ]
  },
  {
   "cell_type": "markdown",
   "id": "93c40a29",
   "metadata": {},
   "source": [
    "## For example, suppose we have a binary classification task with the following predictions:\n",
    "\n",
    "##            Predicted Positive\tPredicted Negative\n",
    "## Actual Pos    \t10                  \t5\n",
    "## Actual Neg     \t2                   \t25\n",
    "## Based on these predictions, we can calculate the following evaluation metrics:\n",
    "\n",
    "## Precision = 10 / (10 + 2) = 0.83\n",
    "## Recall = 10 / (10 + 5) = 0.67\n",
    "## F1-score = 2 * (0.83 * 0.67) / (0.83 + 0.67) = 0.74"
   ]
  },
  {
   "cell_type": "markdown",
   "id": "e1a9cad0",
   "metadata": {},
   "source": [
    "### Precision measures the proportion of positive predictions that are actually correct. It is calculated as the number of true positive predictions divided by the sum of true positive and false positive predictions. A high precision score indicates that the model is making few false positive predictions, i.e., it is confident in its positive predictions.\n",
    "\n",
    "### Recall measures the proportion of actual positive cases that the model was able to identify. It is calculated as the number of true positive predictions divided by the sum of true positive and false negative predictions. A high recall score indicates that the model is able to identify most of the positive cases in the dataset.\n",
    "\n",
    "### F1-score is the harmonic mean of precision and recall. It is calculated as the harmonic mean of precision and recall, with a higher value indicating a better balance between the two."
   ]
  },
  {
   "cell_type": "code",
   "execution_count": 23,
   "id": "d0f8c3ed",
   "metadata": {},
   "outputs": [
    {
     "name": "stdout",
     "output_type": "stream",
     "text": [
      "              precision    recall  f1-score   support\n",
      "\n",
      "           0       1.00      1.00      1.00        63\n",
      "           1       0.98      1.00      0.99        43\n",
      "           2       1.00      1.00      1.00        54\n",
      "           3       1.00      0.97      0.98        62\n",
      "           4       1.00      1.00      1.00        64\n",
      "           5       0.96      1.00      0.98        50\n",
      "           6       1.00      1.00      1.00        48\n",
      "           7       1.00      1.00      1.00        56\n",
      "           8       0.98      0.95      0.96        55\n",
      "           9       0.96      0.98      0.97        45\n",
      "\n",
      "    accuracy                           0.99       540\n",
      "   macro avg       0.99      0.99      0.99       540\n",
      "weighted avg       0.99      0.99      0.99       540\n",
      "\n"
     ]
    }
   ],
   "source": [
    "# Generate the classification report\n",
    "from sklearn.metrics import classification_report\n",
    "classification_report = classification_report(y_test, y_pred)\n",
    "print(classification_report)"
   ]
  },
  {
   "cell_type": "code",
   "execution_count": null,
   "id": "8310e9ae",
   "metadata": {},
   "outputs": [],
   "source": []
  }
 ],
 "metadata": {
  "kernelspec": {
   "display_name": "Python 3 (ipykernel)",
   "language": "python",
   "name": "python3"
  },
  "language_info": {
   "codemirror_mode": {
    "name": "ipython",
    "version": 3
   },
   "file_extension": ".py",
   "mimetype": "text/x-python",
   "name": "python",
   "nbconvert_exporter": "python",
   "pygments_lexer": "ipython3",
   "version": "3.9.7"
  }
 },
 "nbformat": 4,
 "nbformat_minor": 5
}
